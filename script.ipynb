{
 "cells": [
  {
   "cell_type": "code",
   "execution_count": 27,
   "metadata": {},
   "outputs": [],
   "source": [
    "import numpy as np\n",
    "import scipy.io as sio\n",
    "import matplotlib.pyplot as plt"
   ]
  },
  {
   "cell_type": "code",
   "execution_count": 2,
   "metadata": {},
   "outputs": [
    {
     "data": {
      "text/plain": [
       "'/home/mrk/thermooptics'"
      ]
     },
     "execution_count": 2,
     "metadata": {},
     "output_type": "execute_result"
    }
   ],
   "source": [
    "pwd"
   ]
  },
  {
   "cell_type": "code",
   "execution_count": 3,
   "metadata": {},
   "outputs": [
    {
     "name": "stdout",
     "output_type": "stream",
     "text": [
      "/home/mrk/thermooptics/data\n"
     ]
    }
   ],
   "source": [
    "cd data/"
   ]
  },
  {
   "cell_type": "code",
   "execution_count": 4,
   "metadata": {},
   "outputs": [
    {
     "name": "stdout",
     "output_type": "stream",
     "text": [
      "'alfa (2).mat'   alfa.mat             'Parameters (3).mat'\r\n",
      "'alfa (3).mat'  'Parameters (2).mat'   Parameters.mat\r\n"
     ]
    }
   ],
   "source": [
    "ls"
   ]
  },
  {
   "cell_type": "code",
   "execution_count": 5,
   "metadata": {},
   "outputs": [],
   "source": [
    "param = sio.loadmat('Parameters.mat')\n",
    "alpha = sio.loadmat('alfa.mat')"
   ]
  },
  {
   "cell_type": "code",
   "execution_count": 12,
   "metadata": {},
   "outputs": [
    {
     "data": {
      "text/plain": [
       "{'__header__': b'MATLAB 5.0 MAT-file, Platform: PCWIN64, Created on: Mon Apr 18 20:41:28 2022',\n",
       " '__version__': '1.0',\n",
       " '__globals__': [],\n",
       " 'A1': array([[0.137]]),\n",
       " 'L': array([[0.009]]),\n",
       " 'P_in': array([[170, 200, 230, 260, 290, 320, 350]], dtype=uint16),\n",
       " 'Q': array([[1.7e-06]]),\n",
       " 'gamma': array([[4.88995818e-05, 6.07772015e-05, 4.28082055e-05, 5.65838742e-05,\n",
       "         6.51713032e-05, 7.45845996e-05, 9.75086047e-05]]),\n",
       " 'k': array([[5]], dtype=uint8),\n",
       " 'lambda': array([[1.07e-06]])}"
      ]
     },
     "execution_count": 12,
     "metadata": {},
     "output_type": "execute_result"
    }
   ],
   "source": [
    "param"
   ]
  },
  {
   "cell_type": "code",
   "execution_count": 17,
   "metadata": {},
   "outputs": [
    {
     "data": {
      "text/plain": [
       "array([0.10991342, 0.10415675, 0.0760121 , 0.07730722, 0.07438361,\n",
       "       0.07211435, 0.0753877 ])"
      ]
     },
     "execution_count": 17,
     "metadata": {},
     "output_type": "execute_result"
    }
   ],
   "source": [
    "alpha['alfa'][0]"
   ]
  },
  {
   "cell_type": "code",
   "execution_count": 21,
   "metadata": {},
   "outputs": [],
   "source": [
    "param1 = sio.loadmat('Parameters (2).mat')\n",
    "alpha1 = sio.loadmat('alfa (2).mat')"
   ]
  },
  {
   "cell_type": "code",
   "execution_count": 22,
   "metadata": {},
   "outputs": [
    {
     "data": {
      "text/plain": [
       "{'__header__': b'MATLAB 5.0 MAT-file, Platform: PCWIN64, Created on: Mon Apr 18 19:36:19 2022',\n",
       " '__version__': '1.0',\n",
       " '__globals__': [],\n",
       " 'A1': array([[0.137]]),\n",
       " 'L': array([[0.009]]),\n",
       " 'P_in': array([[170, 200, 230, 260, 290, 320, 350]], dtype=uint16),\n",
       " 'Q': array([[1.7e-06]]),\n",
       " 'gamma': array([[4.93282856e-05, 6.47992361e-05, 3.67778018e-05, 5.65838742e-05,\n",
       "         7.58573488e-05, 6.99551956e-05, 9.66611738e-05]]),\n",
       " 'k': array([[5]], dtype=uint8),\n",
       " 'lambda': array([[1.07e-06]])}"
      ]
     },
     "execution_count": 22,
     "metadata": {},
     "output_type": "execute_result"
    }
   ],
   "source": [
    "param1"
   ]
  },
  {
   "cell_type": "code",
   "execution_count": 23,
   "metadata": {},
   "outputs": [
    {
     "data": {
      "text/plain": [
       "{'__header__': b'MATLAB 5.0 MAT-file, Platform: PCWIN64, Created on: Mon Apr 18 19:36:22 2022',\n",
       " '__version__': '1.0',\n",
       " '__globals__': [],\n",
       " 'alfa': array([[0.11039417, 0.10754792, 0.07045505, 0.07730722, 0.08025053,\n",
       "         0.06984046, 0.07505939]])}"
      ]
     },
     "execution_count": 23,
     "metadata": {},
     "output_type": "execute_result"
    }
   ],
   "source": [
    "alpha1"
   ]
  },
  {
   "cell_type": "code",
   "execution_count": 29,
   "metadata": {},
   "outputs": [
    {
     "data": {
      "text/plain": [
       "[<matplotlib.lines.Line2D at 0x7fb9fa76dac0>]"
      ]
     },
     "execution_count": 29,
     "metadata": {},
     "output_type": "execute_result"
    },
    {
     "data": {
      "image/png": "[encoded data removed]",
      "text/plain": [
       "<Figure size 432x288 with 1 Axes>"
      ]
     },
     "metadata": {
      "needs_background": "light"
     },
     "output_type": "display_data"
    }
   ],
   "source": [
    "plt.plot(param['gamma'][0] - param1['gamma'][0])"
   ]
  },
  {
   "cell_type": "code",
   "execution_count": 34,
   "metadata": {},
   "outputs": [
    {
     "data": {
      "text/plain": [
       "<matplotlib.collections.PathCollection at 0x7fb9fa652ee0>"
      ]
     },
     "execution_count": 34,
     "metadata": {},
     "output_type": "execute_result"
    },
    {
     "data": {
      "image/png": "[encoded data removed]",
      "text/plain": [
       "<Figure size 432x288 with 1 Axes>"
      ]
     },
     "metadata": {
      "needs_background": "light"
     },
     "output_type": "display_data"
    }
   ],
   "source": [
    "plt.scatter(param['P_in'][0], param['gamma'][0])\n",
    "plt.scatter(param1['P_in'][0], param1['gamma'][0])"
   ]
  },
  {
   "cell_type": "code",
   "execution_count": null,
   "metadata": {},
   "outputs": [],
   "source": []
  }
 ],
 "metadata": {
  "kernelspec": {
   "display_name": "Python 3",
   "language": "python",
   "name": "python3"
  },
  "language_info": {
   "codemirror_mode": {
    "name": "ipython",
    "version": 3
   },
   "file_extension": ".py",
   "mimetype": "text/x-python",
   "name": "python",
   "nbconvert_exporter": "python",
   "pygments_lexer": "ipython3",
   "version": "3.9.12"
  }
 },
 "nbformat": 4,
 "nbformat_minor": 4
}
